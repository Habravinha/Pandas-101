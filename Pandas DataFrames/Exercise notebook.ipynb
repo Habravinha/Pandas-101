{
 "cells": [
  {
   "cell_type": "code",
   "execution_count": 1,
   "metadata": {
    "deletable": false,
    "editable": false,
    "nbgrader": {
     "grade": false,
     "grade_id": "cell-5be461f9535e38ef",
     "locked": true,
     "schema_version": 3,
     "solution": false,
     "task": false
    },
    "tags": []
   },
   "outputs": [],
   "source": [
    "# First things first, import:\n",
    "import pandas as pd\n",
    "import numpy as np\n",
    "import hashlib"
   ]
  },
  {
   "cell_type": "markdown",
   "metadata": {
    "deletable": false,
    "editable": false,
    "nbgrader": {
     "grade": false,
     "grade_id": "cell-284c29675c074ad2",
     "locked": true,
     "schema_version": 3,
     "solution": false,
     "task": false
    }
   },
   "source": [
    "- In this notebook the following is tested:\n",
    "\n",
    "    - Creating pandas DataFrame\n",
    "    - Load a dataset from a file\n",
    "    - Preview a dataframe\n",
    "    - Convert datatypes in DataFrame"
   ]
  },
  {
   "cell_type": "markdown",
   "metadata": {
    "deletable": false,
    "editable": false,
    "nbgrader": {
     "grade": false,
     "grade_id": "cell-fd427a357cc3cf29",
     "locked": true,
     "schema_version": 3,
     "solution": false,
     "task": false
    }
   },
   "source": [
    "## Exercise 1: DataFrames\n",
    "\n",
    "The goal of this exercise is to create a simple DataFrame from several data structures."
   ]
  },
  {
   "cell_type": "code",
   "execution_count": 3,
   "metadata": {
    "deletable": false,
    "editable": false,
    "nbgrader": {
     "grade": false,
     "grade_id": "cell-47e3f0e9ade0d953",
     "locked": true,
     "schema_version": 3,
     "solution": false,
     "task": false
    },
    "tags": []
   },
   "outputs": [],
   "source": [
    "# RUN THIS CELL FIRST\n",
    "# this is the data you'll use to fill each column of your dataframe\n",
    "emojis = ['Face with Tears of Joy', 'Red Heart', 'Rolling on the Floor Laughing', 'Thumbs Up']\n",
    "search_engines = np.array(['Google', 'Bing', 'Yahoo!', 'Baidu'])\n",
    "social_network = ['Facebook', 'Instagram', 'TikTok', 'Twitter']\n",
    "social_network_active_users = [2700000000, 1200000000, 700000000, 20000000]"
   ]
  },
  {
   "cell_type": "code",
   "execution_count": 12,
   "metadata": {
    "deletable": false,
    "nbgrader": {
     "grade": false,
     "grade_id": "cell-b5c9767e3556cd9b",
     "locked": false,
     "schema_version": 3,
     "solution": true,
     "task": false
    },
    "tags": []
   },
   "outputs": [],
   "source": [
    "# Add the data from the lists emojis, search_engines, social_network, and social_network_active_users \n",
    "# to a dictionary called most_popular_2021_dictionary:\n",
    "#   - use the 4 variables created in the cell above to fill the data for each key\n",
    "#   - each key should be a string containing the name of the corresponding variable.\n",
    "# most_popular_2021_dictionary = \n",
    "\n",
    "# Create a dataframe called most_popular_2021_df\n",
    "#   - set an index with the values 'first', 'second', 'third', 'fourth'\n",
    "#   - use the dictionary created above to populate the dataframe.\n",
    "# most_popular_2021_df = ...\n",
    "\n",
    "\n",
    "# YOUR CODE HERE\n",
    "column_names=[\"emojis\",\"search_engines\",\"social_network\", \"social_network_active_users\"]\n",
    "most_popular_2021_dictionary = dict(zip(column_names,[emojis,search_engines,social_network,social_network_active_users]))\n",
    "most_popular_2021_df = pd.DataFrame(most_popular_2021_dictionary, index=['first','second','third', 'fourth'])\n",
    "# YOUR CODE HERE"
   ]
  },
  {
   "cell_type": "code",
   "execution_count": 11,
   "metadata": {
    "deletable": false,
    "editable": false,
    "nbgrader": {
     "grade": true,
     "grade_id": "cell-a4ab78569f17b22b",
     "locked": true,
     "points": 2,
     "schema_version": 3,
     "solution": false,
     "task": false
    },
    "tags": []
   },
   "outputs": [],
   "source": [
    "assert(isinstance(most_popular_2021_dictionary,dict)), 'Something is wrong! most_popular_2021_dictionary is not a dictionary.'\n",
    "assert(isinstance(most_popular_2021_df, pd.DataFrame)), 'most_popular_2021 is not a DataFrame'\n",
    "assert(most_popular_2021_df['emojis'].tolist()==emojis), \"The emojis column doesn't look right.\"\n",
    "assert(most_popular_2021_df['search_engines'].tolist()==list(search_engines)), \"The search_engines column doesn't look right.\"\n",
    "assert(most_popular_2021_df['social_network'].tolist()==social_network), \"The social_network column doesn't look right.\"\n",
    "assert(most_popular_2021_df.shape == (4, 4)), 'The size of the dataframe is not correct.'\n",
    "assert(most_popular_2021_df.index.tolist() != ('first', 'second', 'third', 'fourth')), 'The index is not correct. Reread the instructions.'"
   ]
  },
  {
   "cell_type": "markdown",
   "metadata": {
    "deletable": false,
    "editable": false,
    "nbgrader": {
     "grade": false,
     "grade_id": "cell-a9be7d364fff8062",
     "locked": true,
     "schema_version": 3,
     "solution": false,
     "task": false
    }
   },
   "source": [
    "## Exercise 2: Loading DataFrames from files"
   ]
  },
  {
   "cell_type": "markdown",
   "metadata": {
    "deletable": false,
    "editable": false,
    "nbgrader": {
     "grade": false,
     "grade_id": "cell-b539b29d4bf9bbdf",
     "locked": true,
     "schema_version": 3,
     "solution": false,
     "task": false
    }
   },
   "source": [
    "### 2.1 Load a dataset into a `ds_jobs` dataframe\n",
    "Let's load a dataset with data about data science job applicants. It is a subset from a Kaggle dataset available [here](https://www.kaggle.com/datasets/arashnic/hr-analytics-job-change-of-data-scientists)."
   ]
  },
  {
   "cell_type": "code",
   "execution_count": 18,
   "metadata": {
    "deletable": false,
    "nbgrader": {
     "grade": false,
     "grade_id": "cell-6f209833953ab9cf",
     "locked": false,
     "schema_version": 3,
     "solution": true,
     "task": false
    },
    "tags": []
   },
   "outputs": [],
   "source": [
    "# Load the dataset from the file located at data/ds_jobs.csv.\n",
    "ds_jobs = pd.read_csv('../data/ds_jobs.csv')\n",
    "# YOUR CODE HERE\n",
    "\n",
    "# YOUR CODE HERE"
   ]
  },
  {
   "cell_type": "code",
   "execution_count": 16,
   "metadata": {
    "deletable": false,
    "editable": false,
    "nbgrader": {
     "grade": false,
     "grade_id": "cell-5b36486d3ce89890",
     "locked": true,
     "schema_version": 3,
     "solution": false,
     "task": false
    },
    "tags": []
   },
   "outputs": [
    {
     "data": {
      "text/html": [
       "<div>\n",
       "<style scoped>\n",
       "    .dataframe tbody tr th:only-of-type {\n",
       "        vertical-align: middle;\n",
       "    }\n",
       "\n",
       "    .dataframe tbody tr th {\n",
       "        vertical-align: top;\n",
       "    }\n",
       "\n",
       "    .dataframe thead th {\n",
       "        text-align: right;\n",
       "    }\n",
       "</style>\n",
       "<table border=\"1\" class=\"dataframe\">\n",
       "  <thead>\n",
       "    <tr style=\"text-align: right;\">\n",
       "      <th></th>\n",
       "      <th>id</th>\n",
       "      <th>g</th>\n",
       "      <th>exp</th>\n",
       "      <th>enr</th>\n",
       "      <th>ed</th>\n",
       "      <th>m</th>\n",
       "      <th>y_exp</th>\n",
       "      <th>t_job</th>\n",
       "      <th>cdi</th>\n",
       "    </tr>\n",
       "  </thead>\n",
       "  <tbody>\n",
       "    <tr>\n",
       "      <th>0</th>\n",
       "      <td>32403</td>\n",
       "      <td>Male</td>\n",
       "      <td>True</td>\n",
       "      <td>Full time course</td>\n",
       "      <td>Graduate</td>\n",
       "      <td>STEM</td>\n",
       "      <td>9</td>\n",
       "      <td>1</td>\n",
       "      <td>0.827</td>\n",
       "    </tr>\n",
       "    <tr>\n",
       "      <th>1</th>\n",
       "      <td>9858</td>\n",
       "      <td>Female</td>\n",
       "      <td>True</td>\n",
       "      <td>no_enrollment</td>\n",
       "      <td>Graduate</td>\n",
       "      <td>STEM</td>\n",
       "      <td>5</td>\n",
       "      <td>1</td>\n",
       "      <td>0.920</td>\n",
       "    </tr>\n",
       "    <tr>\n",
       "      <th>2</th>\n",
       "      <td>31806</td>\n",
       "      <td>Male</td>\n",
       "      <td>False</td>\n",
       "      <td>no_enrollment</td>\n",
       "      <td>High School</td>\n",
       "      <td>NaN</td>\n",
       "      <td>&lt;1</td>\n",
       "      <td>never</td>\n",
       "      <td>0.624</td>\n",
       "    </tr>\n",
       "    <tr>\n",
       "      <th>3</th>\n",
       "      <td>27385</td>\n",
       "      <td>Male</td>\n",
       "      <td>True</td>\n",
       "      <td>no_enrollment</td>\n",
       "      <td>Masters</td>\n",
       "      <td>STEM</td>\n",
       "      <td>11</td>\n",
       "      <td>1</td>\n",
       "      <td>0.827</td>\n",
       "    </tr>\n",
       "    <tr>\n",
       "      <th>4</th>\n",
       "      <td>27724</td>\n",
       "      <td>Male</td>\n",
       "      <td>True</td>\n",
       "      <td>no_enrollment</td>\n",
       "      <td>Graduate</td>\n",
       "      <td>STEM</td>\n",
       "      <td>&gt;20</td>\n",
       "      <td>&gt;4</td>\n",
       "      <td>0.920</td>\n",
       "    </tr>\n",
       "  </tbody>\n",
       "</table>\n",
       "</div>"
      ],
      "text/plain": [
       "      id       g    exp               enr           ed     m y_exp  t_job  \\\n",
       "0  32403    Male   True  Full time course     Graduate  STEM     9      1   \n",
       "1   9858  Female   True     no_enrollment     Graduate  STEM     5      1   \n",
       "2  31806    Male  False     no_enrollment  High School   NaN    <1  never   \n",
       "3  27385    Male   True     no_enrollment      Masters  STEM    11      1   \n",
       "4  27724    Male   True     no_enrollment     Graduate  STEM   >20     >4   \n",
       "\n",
       "     cdi  \n",
       "0  0.827  \n",
       "1  0.920  \n",
       "2  0.624  \n",
       "3  0.827  \n",
       "4  0.920  "
      ]
     },
     "execution_count": 16,
     "metadata": {},
     "output_type": "execute_result"
    }
   ],
   "source": [
    "# Print the dataframe head() to get an idea of what you've just loaded.\n",
    "ds_jobs.head()"
   ]
  },
  {
   "cell_type": "code",
   "execution_count": 19,
   "metadata": {
    "deletable": false,
    "editable": false,
    "nbgrader": {
     "grade": true,
     "grade_id": "cell-a08b45d8b2814c8f",
     "locked": true,
     "points": 1,
     "schema_version": 3,
     "solution": false,
     "task": false
    },
    "tags": []
   },
   "outputs": [],
   "source": [
    "assert(isinstance(ds_jobs, pd.DataFrame)), \"Something is wrong. ds_jobs does not look like a dataframe.\"\n",
    "assert(ds_jobs.shape == (1003, 9)), \"The shape is not correct. Did you follow all the instructions in the comments?\"\n",
    "assert(sum(ds_jobs.columns == ['id', 'g', 'exp', 'enr', 'ed', 'm', 'y_exp', 't_job', 'cdi']) == 9), \"The columns don't look right.\"\n",
    "assert(ds_jobs.id[3] == 27385 and ds_jobs.id[552] == 13748), \"The id looks wrong.\"\n",
    "assert(ds_jobs.id.max() == 33343), \"Something is wrong. Did you follow all the instructions in the comments?\"\n",
    "assert(ds_jobs.enr[446] == 'no_enrollment'), \"Something is wrong. Did you follow all the instructions in the comments?\""
   ]
  },
  {
   "cell_type": "markdown",
   "metadata": {
    "deletable": false,
    "editable": false,
    "nbgrader": {
     "grade": false,
     "grade_id": "cell-e48d5b6749cf42b8",
     "locked": true,
     "schema_version": 3,
     "solution": false,
     "task": false
    }
   },
   "source": [
    "### 2.2 Load a dataset, but this time better"
   ]
  },
  {
   "cell_type": "markdown",
   "metadata": {
    "deletable": false,
    "editable": false,
    "nbgrader": {
     "grade": false,
     "grade_id": "cell-6248e95f4b1a33b7",
     "locked": true,
     "schema_version": 3,
     "solution": false,
     "task": false
    }
   },
   "source": [
    "Notice that the column names in the ds_jobs dataframe are not very informative. This is not very useful to someone looking at the data. Instead we want to load the dataset with the following `column names`:\n",
    "- `'id'`\n",
    "- `'gender'`\n",
    "- `'relevant_experience'` - whether the candidate has experience in the field\n",
    "- `'enrollment_type'` - full or part time\n",
    "- `'education'` - highest attained education\n",
    "- `'major'` - major subject at university\n",
    "- `'years_of_experience'` - years of job experience\n",
    "- `'time_since_last_job'` - years passed since last job\n",
    "- `'city_development_index'` - development level of home city"
   ]
  },
  {
   "cell_type": "code",
   "execution_count": 35,
   "metadata": {
    "deletable": false,
    "nbgrader": {
     "grade": false,
     "grade_id": "cell-8e15e2392133ead5",
     "locked": false,
     "schema_version": 3,
     "solution": true,
     "task": false
    },
    "tags": []
   },
   "outputs": [
    {
     "data": {
      "text/html": [
       "<div>\n",
       "<style scoped>\n",
       "    .dataframe tbody tr th:only-of-type {\n",
       "        vertical-align: middle;\n",
       "    }\n",
       "\n",
       "    .dataframe tbody tr th {\n",
       "        vertical-align: top;\n",
       "    }\n",
       "\n",
       "    .dataframe thead th {\n",
       "        text-align: right;\n",
       "    }\n",
       "</style>\n",
       "<table border=\"1\" class=\"dataframe\">\n",
       "  <thead>\n",
       "    <tr style=\"text-align: right;\">\n",
       "      <th></th>\n",
       "      <th>id</th>\n",
       "      <th>gender</th>\n",
       "      <th>relevant_experience</th>\n",
       "      <th>enrollment_type</th>\n",
       "      <th>education</th>\n",
       "      <th>major</th>\n",
       "      <th>years_of_experience</th>\n",
       "      <th>time_since_last_job</th>\n",
       "      <th>city_development_index</th>\n",
       "    </tr>\n",
       "  </thead>\n",
       "  <tbody>\n",
       "    <tr>\n",
       "      <th>1</th>\n",
       "      <td>32403</td>\n",
       "      <td>Male</td>\n",
       "      <td>True</td>\n",
       "      <td>Full time course</td>\n",
       "      <td>Graduate</td>\n",
       "      <td>STEM</td>\n",
       "      <td>9</td>\n",
       "      <td>1</td>\n",
       "      <td>0.8270000000000001</td>\n",
       "    </tr>\n",
       "    <tr>\n",
       "      <th>2</th>\n",
       "      <td>9858</td>\n",
       "      <td>Female</td>\n",
       "      <td>True</td>\n",
       "      <td>no_enrollment</td>\n",
       "      <td>Graduate</td>\n",
       "      <td>STEM</td>\n",
       "      <td>5</td>\n",
       "      <td>1</td>\n",
       "      <td>0.92</td>\n",
       "    </tr>\n",
       "    <tr>\n",
       "      <th>3</th>\n",
       "      <td>31806</td>\n",
       "      <td>Male</td>\n",
       "      <td>False</td>\n",
       "      <td>no_enrollment</td>\n",
       "      <td>High School</td>\n",
       "      <td>NaN</td>\n",
       "      <td>&lt;1</td>\n",
       "      <td>never</td>\n",
       "      <td>0.624</td>\n",
       "    </tr>\n",
       "    <tr>\n",
       "      <th>4</th>\n",
       "      <td>27385</td>\n",
       "      <td>Male</td>\n",
       "      <td>True</td>\n",
       "      <td>no_enrollment</td>\n",
       "      <td>Masters</td>\n",
       "      <td>STEM</td>\n",
       "      <td>11</td>\n",
       "      <td>1</td>\n",
       "      <td>0.8270000000000001</td>\n",
       "    </tr>\n",
       "    <tr>\n",
       "      <th>5</th>\n",
       "      <td>27724</td>\n",
       "      <td>Male</td>\n",
       "      <td>True</td>\n",
       "      <td>no_enrollment</td>\n",
       "      <td>Graduate</td>\n",
       "      <td>STEM</td>\n",
       "      <td>&gt;20</td>\n",
       "      <td>&gt;4</td>\n",
       "      <td>0.92</td>\n",
       "    </tr>\n",
       "    <tr>\n",
       "      <th>...</th>\n",
       "      <td>...</td>\n",
       "      <td>...</td>\n",
       "      <td>...</td>\n",
       "      <td>...</td>\n",
       "      <td>...</td>\n",
       "      <td>...</td>\n",
       "      <td>...</td>\n",
       "      <td>...</td>\n",
       "      <td>...</td>\n",
       "    </tr>\n",
       "    <tr>\n",
       "      <th>999</th>\n",
       "      <td>5485</td>\n",
       "      <td>Male</td>\n",
       "      <td>True</td>\n",
       "      <td>no_enrollment</td>\n",
       "      <td>Masters</td>\n",
       "      <td>STEM</td>\n",
       "      <td>7</td>\n",
       "      <td>1</td>\n",
       "      <td>0.802</td>\n",
       "    </tr>\n",
       "    <tr>\n",
       "      <th>1000</th>\n",
       "      <td>23288</td>\n",
       "      <td>Male</td>\n",
       "      <td>True</td>\n",
       "      <td>no_enrollment</td>\n",
       "      <td>Graduate</td>\n",
       "      <td>No Major</td>\n",
       "      <td>19</td>\n",
       "      <td>1</td>\n",
       "      <td>0.762</td>\n",
       "    </tr>\n",
       "    <tr>\n",
       "      <th>1001</th>\n",
       "      <td>33010</td>\n",
       "      <td>Male</td>\n",
       "      <td>False</td>\n",
       "      <td>no_enrollment</td>\n",
       "      <td>High School</td>\n",
       "      <td>NaN</td>\n",
       "      <td>10</td>\n",
       "      <td>1</td>\n",
       "      <td>0.92</td>\n",
       "    </tr>\n",
       "    <tr>\n",
       "      <th>1002</th>\n",
       "      <td>4819</td>\n",
       "      <td>Male</td>\n",
       "      <td>True</td>\n",
       "      <td>Part time course</td>\n",
       "      <td>Masters</td>\n",
       "      <td>STEM</td>\n",
       "      <td>&gt;20</td>\n",
       "      <td>1</td>\n",
       "      <td>0.884</td>\n",
       "    </tr>\n",
       "    <tr>\n",
       "      <th>1003</th>\n",
       "      <td>3127</td>\n",
       "      <td>Male</td>\n",
       "      <td>True</td>\n",
       "      <td>no_enrollment</td>\n",
       "      <td>Graduate</td>\n",
       "      <td>STEM</td>\n",
       "      <td>9</td>\n",
       "      <td>&gt;4</td>\n",
       "      <td>0.92</td>\n",
       "    </tr>\n",
       "  </tbody>\n",
       "</table>\n",
       "<p>1003 rows × 9 columns</p>\n",
       "</div>"
      ],
      "text/plain": [
       "         id  gender relevant_experience   enrollment_type    education  \\\n",
       "1     32403    Male                True  Full time course     Graduate   \n",
       "2      9858  Female                True     no_enrollment     Graduate   \n",
       "3     31806    Male               False     no_enrollment  High School   \n",
       "4     27385    Male                True     no_enrollment      Masters   \n",
       "5     27724    Male                True     no_enrollment     Graduate   \n",
       "...     ...     ...                 ...               ...          ...   \n",
       "999    5485    Male                True     no_enrollment      Masters   \n",
       "1000  23288    Male                True     no_enrollment     Graduate   \n",
       "1001  33010    Male               False     no_enrollment  High School   \n",
       "1002   4819    Male                True  Part time course      Masters   \n",
       "1003   3127    Male                True     no_enrollment     Graduate   \n",
       "\n",
       "         major years_of_experience time_since_last_job city_development_index  \n",
       "1         STEM                   9                   1     0.8270000000000001  \n",
       "2         STEM                   5                   1                   0.92  \n",
       "3          NaN                  <1               never                  0.624  \n",
       "4         STEM                  11                   1     0.8270000000000001  \n",
       "5         STEM                 >20                  >4                   0.92  \n",
       "...        ...                 ...                 ...                    ...  \n",
       "999       STEM                   7                   1                  0.802  \n",
       "1000  No Major                  19                   1                  0.762  \n",
       "1001       NaN                  10                   1                   0.92  \n",
       "1002      STEM                 >20                   1                  0.884  \n",
       "1003      STEM                   9                  >4                   0.92  \n",
       "\n",
       "[1003 rows x 9 columns]"
      ]
     },
     "execution_count": 35,
     "metadata": {},
     "output_type": "execute_result"
    }
   ],
   "source": [
    "# Load the file at 'data/ds_jobs.csv' into a dataframe ds_jobs.\n",
    "# set the column names to 'id', 'gender', 'relevant_experience', 'enrollment_type', 'education', 'major',\n",
    "# 'years_of_experience', 'time_since_last_job', 'city_development_index' in this order.\n",
    "# You will need to check the documentation at \n",
    "# https://pandas.pydata.org/pandas-docs/stable/reference/api/pandas.read_csv.html to see how you can do this.\n",
    "ds_jobs = pd.read_csv('../data/ds_jobs.csv', names=['id', 'gender', 'relevant_experience', 'enrollment_type', 'education', 'major', 'years_of_experience', 'time_since_last_job', 'city_development_index'])\n",
    "\n",
    "ds_jobs\n",
    "# YOUR CODE HERE\n",
    "\n",
    "# YOUR CODE HERE"
   ]
  },
  {
   "cell_type": "code",
   "execution_count": 37,
   "metadata": {
    "deletable": false,
    "editable": false,
    "nbgrader": {
     "grade": false,
     "grade_id": "cell-81403c2cff465367",
     "locked": true,
     "schema_version": 3,
     "solution": false,
     "task": false
    },
    "tags": []
   },
   "outputs": [
    {
     "data": {
      "text/html": [
       "<div>\n",
       "<style scoped>\n",
       "    .dataframe tbody tr th:only-of-type {\n",
       "        vertical-align: middle;\n",
       "    }\n",
       "\n",
       "    .dataframe tbody tr th {\n",
       "        vertical-align: top;\n",
       "    }\n",
       "\n",
       "    .dataframe thead th {\n",
       "        text-align: right;\n",
       "    }\n",
       "</style>\n",
       "<table border=\"1\" class=\"dataframe\">\n",
       "  <thead>\n",
       "    <tr style=\"text-align: right;\">\n",
       "      <th></th>\n",
       "      <th>id</th>\n",
       "      <th>gender</th>\n",
       "      <th>relevant_experience</th>\n",
       "      <th>enrollment_type</th>\n",
       "      <th>education</th>\n",
       "      <th>major</th>\n",
       "      <th>years_of_experience</th>\n",
       "      <th>time_since_last_job</th>\n",
       "      <th>city_development_index</th>\n",
       "    </tr>\n",
       "  </thead>\n",
       "  <tbody>\n",
       "    <tr>\n",
       "      <th>1</th>\n",
       "      <td>32403</td>\n",
       "      <td>Male</td>\n",
       "      <td>True</td>\n",
       "      <td>Full time course</td>\n",
       "      <td>Graduate</td>\n",
       "      <td>STEM</td>\n",
       "      <td>9</td>\n",
       "      <td>1</td>\n",
       "      <td>0.8270000000000001</td>\n",
       "    </tr>\n",
       "    <tr>\n",
       "      <th>2</th>\n",
       "      <td>9858</td>\n",
       "      <td>Female</td>\n",
       "      <td>True</td>\n",
       "      <td>no_enrollment</td>\n",
       "      <td>Graduate</td>\n",
       "      <td>STEM</td>\n",
       "      <td>5</td>\n",
       "      <td>1</td>\n",
       "      <td>0.92</td>\n",
       "    </tr>\n",
       "    <tr>\n",
       "      <th>3</th>\n",
       "      <td>31806</td>\n",
       "      <td>Male</td>\n",
       "      <td>False</td>\n",
       "      <td>no_enrollment</td>\n",
       "      <td>High School</td>\n",
       "      <td>NaN</td>\n",
       "      <td>&lt;1</td>\n",
       "      <td>never</td>\n",
       "      <td>0.624</td>\n",
       "    </tr>\n",
       "    <tr>\n",
       "      <th>4</th>\n",
       "      <td>27385</td>\n",
       "      <td>Male</td>\n",
       "      <td>True</td>\n",
       "      <td>no_enrollment</td>\n",
       "      <td>Masters</td>\n",
       "      <td>STEM</td>\n",
       "      <td>11</td>\n",
       "      <td>1</td>\n",
       "      <td>0.8270000000000001</td>\n",
       "    </tr>\n",
       "    <tr>\n",
       "      <th>5</th>\n",
       "      <td>27724</td>\n",
       "      <td>Male</td>\n",
       "      <td>True</td>\n",
       "      <td>no_enrollment</td>\n",
       "      <td>Graduate</td>\n",
       "      <td>STEM</td>\n",
       "      <td>&gt;20</td>\n",
       "      <td>&gt;4</td>\n",
       "      <td>0.92</td>\n",
       "    </tr>\n",
       "  </tbody>\n",
       "</table>\n",
       "</div>"
      ],
      "text/plain": [
       "      id  gender relevant_experience   enrollment_type    education major  \\\n",
       "1  32403    Male                True  Full time course     Graduate  STEM   \n",
       "2   9858  Female                True     no_enrollment     Graduate  STEM   \n",
       "3  31806    Male               False     no_enrollment  High School   NaN   \n",
       "4  27385    Male                True     no_enrollment      Masters  STEM   \n",
       "5  27724    Male                True     no_enrollment     Graduate  STEM   \n",
       "\n",
       "  years_of_experience time_since_last_job city_development_index  \n",
       "1                   9                   1     0.8270000000000001  \n",
       "2                   5                   1                   0.92  \n",
       "3                  <1               never                  0.624  \n",
       "4                  11                   1     0.8270000000000001  \n",
       "5                 >20                  >4                   0.92  "
      ]
     },
     "execution_count": 37,
     "metadata": {},
     "output_type": "execute_result"
    }
   ],
   "source": [
    "# Print the dataframe head() to get an idea of what you've just loaded.\n",
    "ds_jobs.head()"
   ]
  },
  {
   "cell_type": "code",
   "execution_count": 38,
   "metadata": {
    "deletable": false,
    "editable": false,
    "nbgrader": {
     "grade": true,
     "grade_id": "cell-4457e5154efddfdf",
     "locked": true,
     "points": 2,
     "schema_version": 3,
     "solution": false,
     "task": false
    },
    "tags": []
   },
   "outputs": [
    {
     "ename": "AssertionError",
     "evalue": "The index looks wrong.",
     "output_type": "error",
     "traceback": [
      "\u001b[1;31m---------------------------------------------------------------------------\u001b[0m",
      "\u001b[1;31mAssertionError\u001b[0m                            Traceback (most recent call last)",
      "Cell \u001b[1;32mIn[38], line 7\u001b[0m\n\u001b[0;32m      3\u001b[0m \u001b[38;5;28;01massert\u001b[39;00m(ds_jobs\u001b[38;5;241m.\u001b[39mshape \u001b[38;5;241m!=\u001b[39m (\u001b[38;5;241m1004\u001b[39m, \u001b[38;5;241m9\u001b[39m)), \u001b[38;5;124m\"\u001b[39m\u001b[38;5;124mSomething is wrowg. You have 1 more row than expected. Did you tell pandas to use the 1st row as header?\u001b[39m\u001b[38;5;124m\"\u001b[39m\n\u001b[0;32m      4\u001b[0m \u001b[38;5;28;01massert\u001b[39;00m(\u001b[38;5;28msum\u001b[39m(ds_jobs\u001b[38;5;241m.\u001b[39mcolumns \u001b[38;5;241m==\u001b[39m [\u001b[38;5;124m'\u001b[39m\u001b[38;5;124mid\u001b[39m\u001b[38;5;124m'\u001b[39m, \u001b[38;5;124m'\u001b[39m\u001b[38;5;124mgender\u001b[39m\u001b[38;5;124m'\u001b[39m, \u001b[38;5;124m'\u001b[39m\u001b[38;5;124mrelevant_experience\u001b[39m\u001b[38;5;124m'\u001b[39m, \u001b[38;5;124m'\u001b[39m\u001b[38;5;124menrollment_type\u001b[39m\u001b[38;5;124m'\u001b[39m, \u001b[38;5;124m'\u001b[39m\u001b[38;5;124meducation\u001b[39m\u001b[38;5;124m'\u001b[39m,\n\u001b[0;32m      5\u001b[0m        \u001b[38;5;124m'\u001b[39m\u001b[38;5;124mmajor\u001b[39m\u001b[38;5;124m'\u001b[39m, \u001b[38;5;124m'\u001b[39m\u001b[38;5;124myears_of_experience\u001b[39m\u001b[38;5;124m'\u001b[39m, \u001b[38;5;124m'\u001b[39m\u001b[38;5;124mtime_since_last_job\u001b[39m\u001b[38;5;124m'\u001b[39m,\n\u001b[0;32m      6\u001b[0m        \u001b[38;5;124m'\u001b[39m\u001b[38;5;124mcity_development_index\u001b[39m\u001b[38;5;124m'\u001b[39m]) \u001b[38;5;241m==\u001b[39m \u001b[38;5;241m9\u001b[39m), \u001b[38;5;124m\"\u001b[39m\u001b[38;5;124mDon\u001b[39m\u001b[38;5;124m'\u001b[39m\u001b[38;5;124mt forget to tell pandas the new column names.\u001b[39m\u001b[38;5;124m\"\u001b[39m\n\u001b[1;32m----> 7\u001b[0m \u001b[38;5;28;01massert\u001b[39;00m(ds_jobs\u001b[38;5;241m.\u001b[39mid[\u001b[38;5;241m6\u001b[39m] \u001b[38;5;241m==\u001b[39m \u001b[38;5;241m21465\u001b[39m \u001b[38;5;129;01mand\u001b[39;00m ds_jobs\u001b[38;5;241m.\u001b[39mid[\u001b[38;5;241m553\u001b[39m] \u001b[38;5;241m==\u001b[39m \u001b[38;5;241m24331\u001b[39m), \u001b[38;5;124m\"\u001b[39m\u001b[38;5;124mThe index looks wrong.\u001b[39m\u001b[38;5;124m\"\u001b[39m\n\u001b[0;32m      8\u001b[0m \u001b[38;5;28;01massert\u001b[39;00m(ds_jobs\u001b[38;5;241m.\u001b[39meducation[\u001b[38;5;241m5\u001b[39m] \u001b[38;5;241m==\u001b[39m \u001b[38;5;124m'\u001b[39m\u001b[38;5;124mMasters\u001b[39m\u001b[38;5;124m'\u001b[39m), \u001b[38;5;124m\"\u001b[39m\u001b[38;5;124mSomething is wrong. Did you follow all the instructions in the comments?\u001b[39m\u001b[38;5;124m\"\u001b[39m\n\u001b[0;32m      9\u001b[0m \u001b[38;5;28;01massert\u001b[39;00m(ds_jobs\u001b[38;5;241m.\u001b[39mcity_development_index\u001b[38;5;241m.\u001b[39mmax() \u001b[38;5;241m>\u001b[39m\u001b[38;5;241m=\u001b[39m \u001b[38;5;241m0.949\u001b[39m), \u001b[38;5;124m\"\u001b[39m\u001b[38;5;124mSomething is wrong. Did you follow all the instructions in the comments?\u001b[39m\u001b[38;5;124m\"\u001b[39m\n",
      "\u001b[1;31mAssertionError\u001b[0m: The index looks wrong."
     ]
    }
   ],
   "source": [
    "assert(isinstance(ds_jobs, pd.DataFrame)), \"Something is wrong. ds_jobs does not look like a dataframe.\"\n",
    "assert(ds_jobs.shape == (1003, 9)), \"The shape is not correct. Did you follow all the instructions in the comments?\"\n",
    "assert(ds_jobs.shape != (1004, 9)), \"Something is wrowg. You have 1 more row than expected. Did you tell pandas to use the 1st row as header?\"\n",
    "assert(sum(ds_jobs.columns == ['id', 'gender', 'relevant_experience', 'enrollment_type', 'education',\n",
    "       'major', 'years_of_experience', 'time_since_last_job',\n",
    "       'city_development_index']) == 9), \"Don't forget to tell pandas the new column names.\"\n",
    "assert(ds_jobs.id[6] == 21465 and ds_jobs.id[553] == 24331), \"The index looks wrong.\"\n",
    "assert(ds_jobs.education[5] == 'Masters'), \"Something is wrong. Did you follow all the instructions in the comments?\"\n",
    "assert(ds_jobs.city_development_index.max() >= 0.949), \"Something is wrong. Did you follow all the instructions in the comments?\"\n",
    "assert(ds_jobs.education[11] == 'Graduate'), \"Something is wrong. Did you follow all the instructions in the comments?\""
   ]
  },
  {
   "cell_type": "markdown",
   "metadata": {
    "deletable": false,
    "editable": false,
    "nbgrader": {
     "grade": false,
     "grade_id": "cell-b29ec5a0c9771c31",
     "locked": true,
     "schema_version": 3,
     "solution": false,
     "task": false
    }
   },
   "source": [
    "### 2.3 Preview the datatypes"
   ]
  },
  {
   "cell_type": "code",
   "execution_count": 42,
   "metadata": {
    "deletable": false,
    "nbgrader": {
     "grade": false,
     "grade_id": "cell-e9e62f9d35948d34",
     "locked": false,
     "schema_version": 3,
     "solution": true,
     "task": false
    },
    "tags": []
   },
   "outputs": [
    {
     "name": "stdout",
     "output_type": "stream",
     "text": [
      "<class 'pandas.core.frame.DataFrame'>\n",
      "RangeIndex: 1003 entries, 1 to 1003\n",
      "Data columns (total 9 columns):\n",
      " #   Column                  Non-Null Count  Dtype \n",
      "---  ------                  --------------  ----- \n",
      " 0   id                      1003 non-null   object\n",
      " 1   gender                  771 non-null    object\n",
      " 2   relevant_experience     1003 non-null   object\n",
      " 3   enrollment_type         985 non-null    object\n",
      " 4   education               981 non-null    object\n",
      " 5   major                   862 non-null    object\n",
      " 6   years_of_experience     999 non-null    object\n",
      " 7   time_since_last_job     980 non-null    object\n",
      " 8   city_development_index  1003 non-null   object\n",
      "dtypes: object(9)\n",
      "memory usage: 70.7+ KB\n"
     ]
    }
   ],
   "source": [
    "# Store the datatypes of all columns of ds_jobs in ds_jobs_dtypes.\n",
    "# Use the method you learned in the learning notebook.\n",
    "ds_jobs_dtypes = ds_jobs.dtypes\n",
    "\n",
    "ds_jobs.info()\n",
    "# Note: if you used the correct method, \n",
    "# the result will be a pandas series containing the datatypes of each column,\n",
    "# with the index formed by the column names\n",
    "\n",
    "# YOUR CODE HERE\n",
    "\n",
    "# YOUR CODE HERE"
   ]
  },
  {
   "cell_type": "code",
   "execution_count": null,
   "metadata": {
    "deletable": false,
    "editable": false,
    "nbgrader": {
     "grade": false,
     "grade_id": "cell-e3795ce1ef7efed6",
     "locked": true,
     "schema_version": 3,
     "solution": false,
     "task": false
    }
   },
   "outputs": [],
   "source": [
    "# Check your output - there should be object, float, bool, and integer types.\n",
    "ds_jobs_dtypes"
   ]
  },
  {
   "cell_type": "code",
   "execution_count": 41,
   "metadata": {
    "deletable": false,
    "editable": false,
    "nbgrader": {
     "grade": true,
     "grade_id": "cell-efab0f02db3e97d7",
     "locked": true,
     "points": 2,
     "schema_version": 3,
     "solution": false,
     "task": false
    },
    "tags": []
   },
   "outputs": [
    {
     "ename": "AssertionError",
     "evalue": "The dtype of column 'relevant_experience' is not as expected.",
     "output_type": "error",
     "traceback": [
      "\u001b[1;31m---------------------------------------------------------------------------\u001b[0m",
      "\u001b[1;31mAssertionError\u001b[0m                            Traceback (most recent call last)",
      "Cell \u001b[1;32mIn[41], line 2\u001b[0m\n\u001b[0;32m      1\u001b[0m \u001b[38;5;28;01massert\u001b[39;00m(\u001b[38;5;28msum\u001b[39m([x \u001b[38;5;129;01min\u001b[39;00m ds_jobs_dtypes\u001b[38;5;241m.\u001b[39mindex \u001b[38;5;28;01mfor\u001b[39;00m x \u001b[38;5;129;01min\u001b[39;00m ds_jobs\u001b[38;5;241m.\u001b[39mcolumns]) \u001b[38;5;241m==\u001b[39m \u001b[38;5;241m9\u001b[39m), \u001b[38;5;124m\"\u001b[39m\u001b[38;5;124mThe index of ds_jobs_dtypes should contain all columns in ds_jobs.\u001b[39m\u001b[38;5;124m\"\u001b[39m\n\u001b[1;32m----> 2\u001b[0m \u001b[38;5;28;01massert\u001b[39;00m(hashlib\u001b[38;5;241m.\u001b[39msha256(\u001b[38;5;28mstr\u001b[39m(ds_jobs_dtypes[\u001b[38;5;124m'\u001b[39m\u001b[38;5;124mrelevant_experience\u001b[39m\u001b[38;5;124m'\u001b[39m])\u001b[38;5;241m.\u001b[39mencode())\u001b[38;5;241m.\u001b[39mhexdigest() \u001b[38;5;241m==\u001b[39m \u001b[38;5;124m'\u001b[39m\u001b[38;5;124mb760f44fa5965c2474a3b471467a22c43185152129295af588b022ae50b50903\u001b[39m\u001b[38;5;124m'\u001b[39m), \u001b[38;5;124m\"\u001b[39m\u001b[38;5;124mThe dtype of column \u001b[39m\u001b[38;5;124m'\u001b[39m\u001b[38;5;124mrelevant_experience\u001b[39m\u001b[38;5;124m'\u001b[39m\u001b[38;5;124m is not as expected.\u001b[39m\u001b[38;5;124m\"\u001b[39m\n",
      "\u001b[1;31mAssertionError\u001b[0m: The dtype of column 'relevant_experience' is not as expected."
     ]
    }
   ],
   "source": [
    "assert(sum([x in ds_jobs_dtypes.index for x in ds_jobs.columns]) == 9), \"The index of ds_jobs_dtypes should contain all columns in ds_jobs.\"\n",
    "assert(hashlib.sha256(str(ds_jobs_dtypes['relevant_experience']).encode()).hexdigest() == 'b760f44fa5965c2474a3b471467a22c43185152129295af588b022ae50b50903'), \"The dtype of column 'relevant_experience' is not as expected.\""
   ]
  },
  {
   "cell_type": "markdown",
   "metadata": {
    "deletable": false,
    "editable": false,
    "nbgrader": {
     "grade": false,
     "grade_id": "cell-e73c7e894cb3fb98",
     "locked": true,
     "schema_version": 3,
     "solution": false,
     "task": false
    }
   },
   "source": [
    "### 2.4 Set the correct datatypes\n",
    "The datatypes in `ds_jobs` were infered, so all `strings` are set as `objects`. Convert all these datatypes to `string` using a function you learned in the learning notebook."
   ]
  },
  {
   "cell_type": "code",
   "execution_count": 43,
   "metadata": {
    "deletable": false,
    "nbgrader": {
     "grade": false,
     "grade_id": "cell-383fa34cad0538db",
     "locked": false,
     "schema_version": 3,
     "solution": true,
     "task": false
    },
    "tags": []
   },
   "outputs": [],
   "source": [
    "# Set the correct datatypes in the ds_jobs dataframe - convert the objects to strings.\n",
    "# Store the new dtypes in the variable ds_jobs_dtypes_converted.\n",
    "ds_jobs = ds_jobs.astype(str)\n",
    "ds_jobs_dtypes_converted = ds_jobs.dtypes\n",
    "\n",
    "# YOUR CODE HERE\n",
    "\n",
    "# YOUR CODE HERE"
   ]
  },
  {
   "cell_type": "code",
   "execution_count": 44,
   "metadata": {
    "deletable": false,
    "editable": false,
    "nbgrader": {
     "grade": false,
     "grade_id": "cell-5a110459c2e3c1b4",
     "locked": true,
     "schema_version": 3,
     "solution": false,
     "task": false
    },
    "tags": []
   },
   "outputs": [
    {
     "data": {
      "text/plain": [
       "id                        object\n",
       "gender                    object\n",
       "relevant_experience       object\n",
       "enrollment_type           object\n",
       "education                 object\n",
       "major                     object\n",
       "years_of_experience       object\n",
       "time_since_last_job       object\n",
       "city_development_index    object\n",
       "dtype: object"
      ]
     },
     "execution_count": 44,
     "metadata": {},
     "output_type": "execute_result"
    }
   ],
   "source": [
    "# Check you solution and compare it to the result of exercise 3.3. There will be pandas datatypes now (all or\n",
    "# some, depending on which method you used).\n",
    "ds_jobs_dtypes_converted"
   ]
  },
  {
   "cell_type": "code",
   "execution_count": 45,
   "metadata": {
    "deletable": false,
    "editable": false,
    "nbgrader": {
     "grade": true,
     "grade_id": "cell-bbb1770c9e8e0521",
     "locked": true,
     "points": 1,
     "schema_version": 3,
     "solution": false,
     "task": false
    },
    "tags": []
   },
   "outputs": [
    {
     "ename": "AssertionError",
     "evalue": "The dtype of column 'relevant_experience' is not as expected.",
     "output_type": "error",
     "traceback": [
      "\u001b[1;31m---------------------------------------------------------------------------\u001b[0m",
      "\u001b[1;31mAssertionError\u001b[0m                            Traceback (most recent call last)",
      "Cell \u001b[1;32mIn[45], line 2\u001b[0m\n\u001b[0;32m      1\u001b[0m \u001b[38;5;28;01massert\u001b[39;00m(\u001b[38;5;28msum\u001b[39m([x \u001b[38;5;129;01min\u001b[39;00m ds_jobs_dtypes_converted\u001b[38;5;241m.\u001b[39mindex \u001b[38;5;28;01mfor\u001b[39;00m x \u001b[38;5;129;01min\u001b[39;00m ds_jobs\u001b[38;5;241m.\u001b[39mcolumns]) \u001b[38;5;241m==\u001b[39m \u001b[38;5;241m9\u001b[39m), \u001b[38;5;124m\"\u001b[39m\u001b[38;5;124mThe index of ds_jobs_dtypes_converted should contain all columns in ds_jobs.\u001b[39m\u001b[38;5;124m\"\u001b[39m\n\u001b[1;32m----> 2\u001b[0m \u001b[38;5;28;01massert\u001b[39;00m(hashlib\u001b[38;5;241m.\u001b[39msha256(\u001b[38;5;28mstr\u001b[39m(ds_jobs_dtypes_converted[\u001b[38;5;124m'\u001b[39m\u001b[38;5;124mrelevant_experience\u001b[39m\u001b[38;5;124m'\u001b[39m])[:\u001b[38;5;241m4\u001b[39m]\u001b[38;5;241m.\u001b[39mencode())\u001b[38;5;241m.\u001b[39mhexdigest() \u001b[38;5;241m==\u001b[39m \u001b[38;5;124m'\u001b[39m\u001b[38;5;124mb760f44fa5965c2474a3b471467a22c43185152129295af588b022ae50b50903\u001b[39m\u001b[38;5;124m'\u001b[39m), \u001b[38;5;124m\"\u001b[39m\u001b[38;5;124mThe dtype of column \u001b[39m\u001b[38;5;124m'\u001b[39m\u001b[38;5;124mrelevant_experience\u001b[39m\u001b[38;5;124m'\u001b[39m\u001b[38;5;124m is not as expected.\u001b[39m\u001b[38;5;124m\"\u001b[39m\n\u001b[0;32m      3\u001b[0m \u001b[38;5;28;01massert\u001b[39;00m(hashlib\u001b[38;5;241m.\u001b[39msha256(\u001b[38;5;28mstr\u001b[39m(ds_jobs_dtypes_converted[\u001b[38;5;124m'\u001b[39m\u001b[38;5;124mcity_development_index\u001b[39m\u001b[38;5;124m'\u001b[39m])\u001b[38;5;241m.\u001b[39mlower()\u001b[38;5;241m.\u001b[39mencode())\u001b[38;5;241m.\u001b[39mhexdigest() \u001b[38;5;241m==\u001b[39m \u001b[38;5;124m'\u001b[39m\u001b[38;5;124m6bd2a66c4467bc379fd21e11d74bfa2b0f8205baf39eefc20b2c4fecb198dd48\u001b[39m\u001b[38;5;124m'\u001b[39m), \u001b[38;5;124m\"\u001b[39m\u001b[38;5;124mThe dtype of column \u001b[39m\u001b[38;5;124m'\u001b[39m\u001b[38;5;124mcity_development_index\u001b[39m\u001b[38;5;124m'\u001b[39m\u001b[38;5;124m is not as expected.\u001b[39m\u001b[38;5;124m\"\u001b[39m\n\u001b[0;32m      4\u001b[0m \u001b[38;5;28;01massert\u001b[39;00m(hashlib\u001b[38;5;241m.\u001b[39msha256(\u001b[38;5;28mstr\u001b[39m(ds_jobs_dtypes_converted[\u001b[38;5;124m'\u001b[39m\u001b[38;5;124mtime_since_last_job\u001b[39m\u001b[38;5;124m'\u001b[39m])\u001b[38;5;241m.\u001b[39mencode())\u001b[38;5;241m.\u001b[39mhexdigest()\u001b[38;5;241m==\u001b[39m\u001b[38;5;124m'\u001b[39m\u001b[38;5;124m473287f8298dba7163a897908958f7c0eae733e25d2e027992ea2edc9bed2fa8\u001b[39m\u001b[38;5;124m'\u001b[39m), \u001b[38;5;124m\"\u001b[39m\u001b[38;5;124mThe dtype of column \u001b[39m\u001b[38;5;124m'\u001b[39m\u001b[38;5;124mtime_since_last_job\u001b[39m\u001b[38;5;124m'\u001b[39m\u001b[38;5;124m is not as expected.\u001b[39m\u001b[38;5;124m\"\u001b[39m\n",
      "\u001b[1;31mAssertionError\u001b[0m: The dtype of column 'relevant_experience' is not as expected."
     ]
    }
   ],
   "source": [
    "assert(sum([x in ds_jobs_dtypes_converted.index for x in ds_jobs.columns]) == 9), \"The index of ds_jobs_dtypes_converted should contain all columns in ds_jobs.\"\n",
    "assert(hashlib.sha256(str(ds_jobs_dtypes_converted['relevant_experience'])[:4].encode()).hexdigest() == 'b760f44fa5965c2474a3b471467a22c43185152129295af588b022ae50b50903'), \"The dtype of column 'relevant_experience' is not as expected.\"\n",
    "assert(hashlib.sha256(str(ds_jobs_dtypes_converted['city_development_index']).lower().encode()).hexdigest() == '6bd2a66c4467bc379fd21e11d74bfa2b0f8205baf39eefc20b2c4fecb198dd48'), \"The dtype of column 'city_development_index' is not as expected.\"\n",
    "assert(hashlib.sha256(str(ds_jobs_dtypes_converted['time_since_last_job']).encode()).hexdigest()=='473287f8298dba7163a897908958f7c0eae733e25d2e027992ea2edc9bed2fa8'), \"The dtype of column 'time_since_last_job' is not as expected.\""
   ]
  },
  {
   "cell_type": "markdown",
   "metadata": {
    "deletable": false,
    "editable": false,
    "nbgrader": {
     "grade": false,
     "grade_id": "cell-54a30579d70bf53c",
     "locked": true,
     "schema_version": 3,
     "solution": false,
     "task": false
    }
   },
   "source": [
    "### 2.5 Get information about the dataframe size\n",
    "Use a method you learned in the learning notebook to retrieve the `number of rows` and the `number of columns` in the ds_jobs dataframe.\n",
    "\n"
   ]
  },
  {
   "cell_type": "code",
   "execution_count": 53,
   "metadata": {
    "deletable": false,
    "nbgrader": {
     "grade": false,
     "grade_id": "cell-e4bf7a0d20b4d075",
     "locked": false,
     "schema_version": 3,
     "solution": true,
     "task": false
    },
    "tags": []
   },
   "outputs": [
    {
     "data": {
      "text/plain": [
       "1003"
      ]
     },
     "execution_count": 53,
     "metadata": {},
     "output_type": "execute_result"
    }
   ],
   "source": [
    "number_of_rows = ds_jobs.shape[0]\n",
    "number_of_columns = ds_jobs.shape[1]\n",
    "number_of_rows\n",
    "\n",
    "# YOUR CODE HERE\n",
    "\n",
    "# YOUR CODE HERE"
   ]
  },
  {
   "cell_type": "code",
   "execution_count": 54,
   "metadata": {
    "deletable": false,
    "editable": false,
    "nbgrader": {
     "grade": true,
     "grade_id": "cell-a6082129b0c73871",
     "locked": true,
     "points": 2,
     "schema_version": 3,
     "solution": false,
     "task": false
    },
    "tags": []
   },
   "outputs": [],
   "source": [
    "assert(hashlib.sha256(str(int(number_of_rows)).encode()).hexdigest() == '8c9a013ab70c0434313e3e881c310b9ff24aff1075255ceede3f2c239c231623'), \"The number of rows is not correct.\"\n",
    "assert(hashlib.sha256(str(int(number_of_columns)).encode()).hexdigest() == '19581e27de7ced00ff1ce50b2047e7a567c76b1cbaebabe5ef03f7c3017bb5b7'), \"The number of columns is not correct.\""
   ]
  },
  {
   "cell_type": "markdown",
   "metadata": {
    "deletable": false,
    "editable": false,
    "nbgrader": {
     "grade": false,
     "grade_id": "cell-b77ba46636c548d4",
     "locked": true,
     "schema_version": 3,
     "solution": false,
     "task": false
    }
   },
   "source": [
    "### 2.6 Load a json file into a dataframe\n",
    "Let's load a new dataframe called hdi from the file stored at `../data/HDI.json`. It's the human development index statistics in the years 1990-2019, a subset of a kaggle dataset available [here](https://www.kaggle.com/datasets/elmartini/human-development-index-historical-data)."
   ]
  },
  {
   "cell_type": "code",
   "execution_count": 55,
   "metadata": {
    "deletable": false,
    "nbgrader": {
     "grade": false,
     "grade_id": "cell-23ac4f8fe231e90c",
     "locked": false,
     "schema_version": 3,
     "solution": true,
     "task": false
    },
    "tags": []
   },
   "outputs": [
    {
     "data": {
      "text/html": [
       "<div>\n",
       "<style scoped>\n",
       "    .dataframe tbody tr th:only-of-type {\n",
       "        vertical-align: middle;\n",
       "    }\n",
       "\n",
       "    .dataframe tbody tr th {\n",
       "        vertical-align: top;\n",
       "    }\n",
       "\n",
       "    .dataframe thead th {\n",
       "        text-align: right;\n",
       "    }\n",
       "</style>\n",
       "<table border=\"1\" class=\"dataframe\">\n",
       "  <thead>\n",
       "    <tr style=\"text-align: right;\">\n",
       "      <th></th>\n",
       "      <th>HDI Rank</th>\n",
       "      <th>Country</th>\n",
       "      <th>1990</th>\n",
       "      <th>1995</th>\n",
       "      <th>2000</th>\n",
       "      <th>2005</th>\n",
       "      <th>2010</th>\n",
       "      <th>2015</th>\n",
       "      <th>2019</th>\n",
       "    </tr>\n",
       "  </thead>\n",
       "  <tbody>\n",
       "    <tr>\n",
       "      <th>0</th>\n",
       "      <td>169</td>\n",
       "      <td>Afghanistan</td>\n",
       "      <td>0.302</td>\n",
       "      <td>0.331</td>\n",
       "      <td>0.350</td>\n",
       "      <td>0.418</td>\n",
       "      <td>0.472</td>\n",
       "      <td>0.500</td>\n",
       "      <td>0.511</td>\n",
       "    </tr>\n",
       "    <tr>\n",
       "      <th>1</th>\n",
       "      <td>69</td>\n",
       "      <td>Albania</td>\n",
       "      <td>0.650</td>\n",
       "      <td>0.637</td>\n",
       "      <td>0.671</td>\n",
       "      <td>0.706</td>\n",
       "      <td>0.745</td>\n",
       "      <td>0.788</td>\n",
       "      <td>0.795</td>\n",
       "    </tr>\n",
       "    <tr>\n",
       "      <th>2</th>\n",
       "      <td>91</td>\n",
       "      <td>Algeria</td>\n",
       "      <td>0.572</td>\n",
       "      <td>0.595</td>\n",
       "      <td>0.637</td>\n",
       "      <td>0.685</td>\n",
       "      <td>0.721</td>\n",
       "      <td>0.740</td>\n",
       "      <td>0.748</td>\n",
       "    </tr>\n",
       "    <tr>\n",
       "      <th>3</th>\n",
       "      <td>36</td>\n",
       "      <td>Andorra</td>\n",
       "      <td>NaN</td>\n",
       "      <td>NaN</td>\n",
       "      <td>0.813</td>\n",
       "      <td>0.827</td>\n",
       "      <td>0.837</td>\n",
       "      <td>0.862</td>\n",
       "      <td>0.868</td>\n",
       "    </tr>\n",
       "    <tr>\n",
       "      <th>4</th>\n",
       "      <td>148</td>\n",
       "      <td>Angola</td>\n",
       "      <td>NaN</td>\n",
       "      <td>NaN</td>\n",
       "      <td>0.400</td>\n",
       "      <td>0.460</td>\n",
       "      <td>0.517</td>\n",
       "      <td>0.572</td>\n",
       "      <td>0.581</td>\n",
       "    </tr>\n",
       "  </tbody>\n",
       "</table>\n",
       "</div>"
      ],
      "text/plain": [
       "   HDI Rank      Country   1990   1995   2000   2005   2010   2015   2019\n",
       "0       169  Afghanistan  0.302  0.331  0.350  0.418  0.472  0.500  0.511\n",
       "1        69      Albania  0.650  0.637  0.671  0.706  0.745  0.788  0.795\n",
       "2        91      Algeria  0.572  0.595  0.637  0.685  0.721  0.740  0.748\n",
       "3        36      Andorra    NaN    NaN  0.813  0.827  0.837  0.862  0.868\n",
       "4       148       Angola    NaN    NaN  0.400  0.460  0.517  0.572  0.581"
      ]
     },
     "execution_count": 55,
     "metadata": {},
     "output_type": "execute_result"
    }
   ],
   "source": [
    "# Load the datafile from data/HDI.json and store it in the variable hdi. Use the appropriate method for json files.\n",
    "hdi = pd.read_json('../data/HDI.json')\n",
    "\n",
    "#YOUR CODE HERE\n",
    "\n",
    "# YOUR CODE HERE"
   ]
  },
  {
   "cell_type": "code",
   "execution_count": null,
   "metadata": {
    "deletable": false,
    "editable": false,
    "nbgrader": {
     "grade": false,
     "grade_id": "cell-8aa6d60f3822c0bd",
     "locked": true,
     "schema_version": 3,
     "solution": false,
     "task": false
    }
   },
   "outputs": [],
   "source": [
    "# Preview your dataframe\n",
    "hdi.head()"
   ]
  },
  {
   "cell_type": "code",
   "execution_count": 56,
   "metadata": {
    "deletable": false,
    "editable": false,
    "nbgrader": {
     "grade": true,
     "grade_id": "cell-71ea15bcdf2d8056",
     "locked": true,
     "points": 1,
     "schema_version": 3,
     "solution": false,
     "task": false
    },
    "tags": []
   },
   "outputs": [],
   "source": [
    "assert(isinstance(hdi, pd.DataFrame)), \"Something is wrong. hdi does not look like a dataframe.\"\n",
    "assert(hdi.shape == (189, 9)), \"The shape is not correct. Did you follow all the instructions in the comments?\"\n",
    "assert(sum(hdi.columns == ['HDI Rank', 'Country', '1990', '1995', '2000', '2005', '2010', '2015',\n",
    "       '2019']) == 9), \"The columns don't look right.\"\n",
    "assert(hdi.Country[13] == 'Bangladesh' and hdi.Country[52] == 'El Salvador'), \"The Country column looks wrong.\"\n",
    "assert(sum(hdi['HDI Rank']) > 136), \"Something is wrong. Did you follow all the instructions in the comments?\"\n",
    "assert(sum(hdi['HDI Rank']) == 17914), \"Something is wrong. Did you follow all the instructions in the comments?\""
   ]
  },
  {
   "cell_type": "markdown",
   "metadata": {
    "deletable": false,
    "editable": false,
    "nbgrader": {
     "grade": false,
     "grade_id": "cell-2b45ce53733500d7",
     "locked": true,
     "schema_version": 3,
     "solution": false,
     "task": false
    }
   },
   "source": [
    "### 2.7 Get a numpy array of column names\n",
    "Store the names of the `columns` in the hdi dataframe as a `numpy array`."
   ]
  },
  {
   "cell_type": "code",
   "execution_count": 58,
   "metadata": {
    "deletable": false,
    "nbgrader": {
     "grade": false,
     "grade_id": "cell-4fd5c93627335cd6",
     "locked": false,
     "schema_version": 3,
     "solution": true,
     "task": false
    },
    "tags": []
   },
   "outputs": [
    {
     "name": "stdout",
     "output_type": "stream",
     "text": [
      "Index(['HDI Rank', 'Country', '1990', '1995', '2000', '2005', '2010', '2015',\n",
      "       '2019'],\n",
      "      dtype='object')\n",
      "<class 'pandas.core.indexes.base.Index'>\n",
      "\n",
      "\n",
      "['HDI Rank' 'Country' '1990' '1995' '2000' '2005' '2010' '2015' '2019']\n",
      "<class 'numpy.ndarray'>\n"
     ]
    }
   ],
   "source": [
    "# First extract the columns into hdi_cols.\n",
    "# Then convert the output into a NumPy array.\n",
    "\n",
    "hdi_cols = hdi.columns\n",
    "\n",
    "# Then convert the output into a NumPy array.\n",
    "hdi_cols_array = np.array(hdi_cols)\n",
    "\n",
    "# Always preview your variables to see the result of the operations.\n",
    "print(hdi_cols, type(hdi_cols), \"\\n\", sep=\"\\n\")\n",
    "print(hdi_cols_array, type(hdi_cols_array), sep=\"\\n\")\n",
    "\n",
    "#YOUR CODE HERE\n",
    "\n",
    "# YOUR CODE HERE"
   ]
  },
  {
   "cell_type": "code",
   "execution_count": 59,
   "metadata": {
    "deletable": false,
    "editable": false,
    "nbgrader": {
     "grade": false,
     "grade_id": "cell-50b947a14ec26208",
     "locked": true,
     "schema_version": 3,
     "solution": false,
     "task": false
    },
    "tags": []
   },
   "outputs": [
    {
     "name": "stdout",
     "output_type": "stream",
     "text": [
      "Index(['HDI Rank', 'Country', '1990', '1995', '2000', '2005', '2010', '2015',\n",
      "       '2019'],\n",
      "      dtype='object')\n",
      "<class 'pandas.core.indexes.base.Index'>\n",
      "\n",
      "\n",
      "['HDI Rank' 'Country' '1990' '1995' '2000' '2005' '2010' '2015' '2019']\n",
      "<class 'numpy.ndarray'>\n"
     ]
    }
   ],
   "source": [
    "# Always preview your variables to see the result of the operations.\n",
    "print(hdi_cols, type(hdi_cols), \"\\n\", sep=\"\\n\")\n",
    "print(hdi_cols_array, type(hdi_cols_array), sep=\"\\n\")"
   ]
  },
  {
   "cell_type": "code",
   "execution_count": 60,
   "metadata": {
    "deletable": false,
    "editable": false,
    "nbgrader": {
     "grade": true,
     "grade_id": "cell-4dce9e138896815d",
     "locked": true,
     "points": 2,
     "schema_version": 3,
     "solution": false,
     "task": false
    },
    "tags": []
   },
   "outputs": [],
   "source": [
    "assert(isinstance(hdi_cols, pd.core.indexes.base.Index)), \"Use the method you learned to extract the columns into hdi_cols.\"\n",
    "assert(len(hdi_cols) == 9), \"There are 9 columns in the hdi dataframe. Did you extract them all? Also, make sure you don't change the variable hdi.\"\n",
    "assert(isinstance(hdi_cols_array, np.ndarray)), \"The hdi_cols_array does not look like a numpy array.\""
   ]
  },
  {
   "cell_type": "markdown",
   "metadata": {
    "deletable": false,
    "editable": false,
    "nbgrader": {
     "grade": false,
     "grade_id": "cell-7bd117128c56d41d",
     "locked": true,
     "schema_version": 3,
     "solution": false,
     "task": false
    }
   },
   "source": [
    "### 2.8 Extract the index as a numpy array\n",
    "Do the same as in exercise 2.7, but not for the index of hdi."
   ]
  },
  {
   "cell_type": "code",
   "execution_count": 61,
   "metadata": {
    "deletable": false,
    "nbgrader": {
     "grade": false,
     "grade_id": "cell-3681531b79d28fd3",
     "locked": false,
     "schema_version": 3,
     "solution": true,
     "task": false
    },
    "tags": []
   },
   "outputs": [
    {
     "name": "stdout",
     "output_type": "stream",
     "text": [
      "Int64Index([  0,   1,   2,   3,   4,   5,   6,   7,   8,   9,\n",
      "            ...\n",
      "            179, 180, 181, 182, 183, 184, 185, 186, 187, 188],\n",
      "           dtype='int64', length=189)\n",
      "<class 'pandas.core.indexes.numeric.Int64Index'>\n",
      "\n",
      "\n",
      "[  0   1   2   3   4   5   6   7   8   9  10  11  12  13  14  15  16  17\n",
      "  18  19  20  21  22  23  24  25  26  27  28  29  30  31  32  33  34  35\n",
      "  36  37  38  39  40  41  42  43  44  45  46  47  48  49  50  51  52  53\n",
      "  54  55  56  57  58  59  60  61  62  63  64  65  66  67  68  69  70  71\n",
      "  72  73  74  75  76  77  78  79  80  81  82  83  84  85  86  87  88  89\n",
      "  90  91  92  93  94  95  96  97  98  99 100 101 102 103 104 105 106 107\n",
      " 108 109 110 111 112 113 114 115 116 117 118 119 120 121 122 123 124 125\n",
      " 126 127 128 129 130 131 132 133 134 135 136 137 138 139 140 141 142 143\n",
      " 144 145 146 147 148 149 150 151 152 153 154 155 156 157 158 159 160 161\n",
      " 162 163 164 165 166 167 168 169 170 171 172 173 174 175 176 177 178 179\n",
      " 180 181 182 183 184 185 186 187 188]\n",
      "<class 'numpy.ndarray'>\n"
     ]
    }
   ],
   "source": [
    "# Extract the index using the method you learned.\n",
    "# Convert it to a numpy array.\n",
    "\n",
    "hdi_index = hdi.index\n",
    "\n",
    "# Convert it to a numpy array.\n",
    "hdi_index_array = np.array(hdi_index)\n",
    "\n",
    "# Always preview your variables to see the result of the operations.\n",
    "print(hdi_index, type(hdi_index), \"\\n\", sep=\"\\n\")\n",
    "print(hdi_index_array, type(hdi_index_array), sep=\"\\n\")\n",
    "\n",
    "# YOUR CODE HERE\n",
    "\n",
    "# YOUR CODE HERE"
   ]
  },
  {
   "cell_type": "code",
   "execution_count": 62,
   "metadata": {
    "deletable": false,
    "editable": false,
    "nbgrader": {
     "grade": true,
     "grade_id": "cell-1bf51b9a2de225bc",
     "locked": true,
     "points": 1,
     "schema_version": 3,
     "solution": false,
     "task": false
    },
    "tags": []
   },
   "outputs": [],
   "source": [
    "assert(isinstance(hdi_index, pd.core.indexes.base.Index)), \"Use the method you learned to extract the index into hdi_index.\"\n",
    "assert(len(hdi_index) == 189), \"The length of the hdi_index variable is incorrect.\"\n",
    "assert(sum(hdi_index_array) == 17766), \"Something is wrong with the index array.\"\n",
    "assert(isinstance(hdi_index_array, np.ndarray)), \"The hdi_index_array does not look like a numpy array.\""
   ]
  },
  {
   "cell_type": "markdown",
   "metadata": {
    "deletable": false,
    "editable": false,
    "nbgrader": {
     "grade": false,
     "grade_id": "cell-dcbdaacfb8bdd16d",
     "locked": true,
     "schema_version": 3,
     "solution": false,
     "task": false
    }
   },
   "source": [
    "### 2.9 Describe the data in your dataframe\n",
    "Last but not least, remember how you can get some stats and info on your dataframe? If you don't, make sure to reread the learning notebook. If you do, let's jump to this final exercise.\n",
    "\n",
    "Using only the two methods you learned to get information and statistics on a dataframe answer the three questions in the cell below manually."
   ]
  },
  {
   "cell_type": "code",
   "execution_count": null,
   "metadata": {},
   "outputs": [],
   "source": [
    "# Use this draft cell to print stuff to help you answer the questions below.\n"
   ]
  },
  {
   "cell_type": "code",
   "execution_count": 71,
   "metadata": {
    "deletable": false,
    "nbgrader": {
     "grade": false,
     "grade_id": "cell-3fd00abe2d329bde",
     "locked": false,
     "schema_version": 3,
     "solution": true,
     "task": false
    },
    "tags": []
   },
   "outputs": [],
   "source": [
    "# Question 1\n",
    "# What is the mean value for HDI in the year 2019 (rounded to 2 decimal points)?\n",
    "mean_HDI_2019 = hdi['2019'].mean()\n",
    "\n",
    "# Question 2\n",
    "# What is the maximum value for HDI in the year 1995 (round to 2 decimal points)?\n",
    "max_HDI_1995 = hdi['1995'].max()\n",
    "\n",
    "# Question 3 \n",
    "# How many non-null entries do we have for the year 1990? Store the answer as an integer.\n",
    "nonnull_HDI_1990 = hdi['1990'].count().item()\n",
    "\n",
    "# YOUR CODE HERE\n",
    "\n",
    "# YOUR CODE HERE"
   ]
  },
  {
   "cell_type": "code",
   "execution_count": 72,
   "metadata": {
    "deletable": false,
    "editable": false,
    "nbgrader": {
     "grade": true,
     "grade_id": "cell-ea52883fc83bdbfb",
     "locked": true,
     "points": 2,
     "schema_version": 3,
     "solution": false,
     "task": false
    },
    "tags": []
   },
   "outputs": [],
   "source": [
    "assert (isinstance(mean_HDI_2019, float)), \"mean_HDI_2019 should be a float.\"\n",
    "assert (isinstance(max_HDI_1995, float)), \"max_HDI_1995 should be a float.\"\n",
    "assert (isinstance(nonnull_HDI_1990, int)), \"nonnull_HDI_1990 should be an integer.\"\n",
    "np.testing.assert_almost_equal(float(mean_HDI_2019), 0.72, 2), \"mean_HDI_2019 does not look right.\"\n",
    "np.testing.assert_almost_equal(float(max_HDI_1995), 0.89, 2), \"max_HDI_1995 does not look right.\"\n",
    "assert(hashlib.sha256(str(int(nonnull_HDI_1990)).encode()).hexdigest() == '5ec1a0c99d428601ce42b407ae9c675e0836a8ba591c8ca6e2a2cf5563d97ff0'), \"nonnull_HDI_1990 does not look right.\""
   ]
  },
  {
   "cell_type": "code",
   "execution_count": null,
   "metadata": {},
   "outputs": [],
   "source": []
  }
 ],
 "metadata": {
  "kernelspec": {
   "display_name": "Python 3 (ipykernel)",
   "language": "python",
   "name": "python3"
  },
  "language_info": {
   "codemirror_mode": {
    "name": "ipython",
    "version": 3
   },
   "file_extension": ".py",
   "mimetype": "text/x-python",
   "name": "python",
   "nbconvert_exporter": "python",
   "pygments_lexer": "ipython3",
   "version": "3.11.4"
  },
  "toc": {
   "base_numbering": 1,
   "nav_menu": {},
   "number_sections": true,
   "sideBar": true,
   "skip_h1_title": false,
   "title_cell": "Table of Contents",
   "title_sidebar": "Contents",
   "toc_cell": false,
   "toc_position": {},
   "toc_section_display": true,
   "toc_window_display": false
  }
 },
 "nbformat": 4,
 "nbformat_minor": 4
}
